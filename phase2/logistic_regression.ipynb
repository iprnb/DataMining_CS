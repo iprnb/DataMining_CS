{
 "cells": [
  {
   "cell_type": "code",
   "execution_count": null,
   "id": "2119104c-9ef9-4d6d-b8d0-661c7f5372a5",
   "metadata": {},
   "outputs": [],
   "source": [
    "from files import get_onehot_dataset\n",
    "import matplotlib.pyplot as plt\n",
    "from sklearn.model_selection import StratifiedKFold\n",
    "from sklearn.model_selection import train_test_split\n",
    "from sklearn.linear_model import SGDClassifier\n",
    "from sklearn.linear_model import LogisticRegression\n",
    "import numpy as np\n",
    "import io\n",
    "import sys"
   ]
  },
  {
   "cell_type": "code",
   "execution_count": null,
   "id": "be53bd39-cb77-42bc-9df3-761136df35ec",
   "metadata": {},
   "outputs": [],
   "source": [
    "class DisplayLossCurve(object):\n",
    "    def __init__(self, print_loss=False):\n",
    "        self.print_loss = print_loss\n",
    "\n",
    "    \"\"\"Make sure the model verbose is set to 1\"\"\"\n",
    "\n",
    "    def __enter__(self):\n",
    "        self.old_stdout = sys.stdout\n",
    "        sys.stdout = self.mystdout = io.StringIO()\n",
    "\n",
    "    def __exit__(self, *args, **kwargs):\n",
    "        sys.stdout = self.old_stdout\n",
    "        loss_history = self.mystdout.getvalue()\n",
    "        loss_list = []\n",
    "        for line in loss_history.split('\\n'):\n",
    "            if (len(line.split(\"loss: \")) == 1):\n",
    "                continue\n",
    "            loss_list.append(float(line.split(\"loss: \")[-1]))\n",
    "        plt.figure()\n",
    "        plt.plot(np.arange(len(loss_list)), loss_list)\n",
    "        plt.xlabel(\"Epoch\")\n",
    "        plt.ylabel(\"Loss\")\n",
    "        plt.show()\n",
    "        if self.print_loss:\n",
    "            print(\"=============== Loss Array ===============\")\n",
    "            print(np.array(loss_list))\n"
   ]
  },
  {
   "cell_type": "code",
   "execution_count": null,
   "id": "4567a4a1-4a6d-4aae-8102-f443afd5bab9",
   "metadata": {},
   "outputs": [],
   "source": [
    "df = get_onehot_dataset()\n",
    "y = df[[\"cardio\"]]\n",
    "X = df.loc[:, df.columns != 'cardio']\n",
    "X = X.to_numpy()\n",
    "y = y.to_numpy()\n",
    "X_train, X_test, y_train, y_test = train_test_split(X, y, test_size=0.2, random_state=0)\n",
    "y_train = np.ravel(y_train)\n",
    "y_test = np.ravel(y_test)"
   ]
  },
  {
   "cell_type": "code",
   "execution_count": null,
   "id": "8526c5aa-41fb-43dc-8089-231403a167e6",
   "metadata": {},
   "outputs": [],
   "source": [
    "# Displaying loss\n",
    "with DisplayLossCurve():\n",
    "    SGDClassifier(loss=\"log_loss\", learning_rate=\"constant\", eta0=0.001, max_iter=5000, verbose=1).fit(X_train, y_train)"
   ]
  },
  {
   "cell_type": "code",
   "execution_count": null,
   "id": "87f41d9a-7990-4d45-939f-1d9c26cb596f",
   "metadata": {},
   "outputs": [],
   "source": [
    "# Changing learning rate\n",
    "with DisplayLossCurve():\n",
    "    SGDClassifier(loss=\"log_loss\", learning_rate=\"constant\", eta0=0.0005, max_iter=5000, verbose=1).fit(X_train, y_train)\n",
    "with DisplayLossCurve():\n",
    "    SGDClassifier(loss=\"log_loss\", learning_rate=\"constant\", eta0=0.2, max_iter=5000, verbose=1).fit(X_train, y_train)\n",
    "with DisplayLossCurve():\n",
    "    SGDClassifier(loss=\"log_loss\", learning_rate=\"constant\", eta0=0.3, max_iter=5000, verbose=1).fit(X_train, y_train)"
   ]
  },
  {
   "cell_type": "code",
   "execution_count": null,
   "id": "06dd9ec0-b12d-41f1-aa63-8b432c1fb1a7",
   "metadata": {},
   "outputs": [],
   "source": [
    "# Stratified cross validation\n",
    "model = SGDClassifier(loss=\"log_loss\", learning_rate=\"constant\", eta0=0.001, max_iter=50000)\n",
    "# model = LogisticRegression()\n",
    "skf = StratifiedKFold(n_splits=20)\n",
    "acc = []\n",
    "for train, test in skf.split(X, y):\n",
    "    X_train, X_test = X[train], X[test]\n",
    "    y_train, y_test = y[train], y[test]\n",
    "    y_train = np.ravel(y_train)\n",
    "    y_test = np.ravel(y_test)\n",
    "    model.fit(X_train, y_train)\n",
    "    acc.append(model.score(X_test, y_test))"
   ]
  },
  {
   "cell_type": "code",
   "execution_count": null,
   "id": "d2da0bf2-e749-442f-8a0f-517bbc24900e",
   "metadata": {},
   "outputs": [],
   "source": [
    "print(\"Accuracy: \", acc)\n",
    "plt.plot(acc)\n",
    "plt.xlabel(\"epoch\")\n",
    "plt.ylabel(\"K fold\")\n",
    "plt.show()"
   ]
  }
 ],
 "metadata": {
  "kernelspec": {
   "display_name": "Python 3 (ipykernel)",
   "language": "python",
   "name": "python3"
  },
  "language_info": {
   "codemirror_mode": {
    "name": "ipython",
    "version": 3
   },
   "file_extension": ".py",
   "mimetype": "text/x-python",
   "name": "python",
   "nbconvert_exporter": "python",
   "pygments_lexer": "ipython3",
   "version": "3.8.10"
  }
 },
 "nbformat": 4,
 "nbformat_minor": 5
}
