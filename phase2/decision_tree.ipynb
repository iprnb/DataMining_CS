{
 "cells": [
  {
   "cell_type": "code",
   "execution_count": null,
   "id": "daa0fce6-aee5-482a-acd4-8014282334bf",
   "metadata": {},
   "outputs": [],
   "source": [
    "!pip3 install matplotlib"
   ]
  },
  {
   "cell_type": "code",
   "execution_count": 2,
   "id": "293b5758-5482-45f6-a798-3e16cf7d92db",
   "metadata": {},
   "outputs": [],
   "source": [
    "#import matplotlib.pyplot as plt\n",
    "from sklearn import tree\n",
    "from sklearn.model_selection import KFold\n",
    "from sklearn.model_selection import train_test_split\n",
    "import numpy as np\n",
    "from files import get_onehot_dataset"
   ]
  },
  {
   "cell_type": "code",
   "execution_count": 3,
   "id": "704b86d7-d07c-4137-beb2-81853746df45",
   "metadata": {},
   "outputs": [],
   "source": [
    "def k_fold(clf, X, y):\n",
    "    kf = KFold(n_splits=10)\n",
    "    acc = []\n",
    "    acc_test = []\n",
    "    for train, test in kf.split(X, y):\n",
    "        X_ktrain, X_ktest = X[train], X[test]\n",
    "        y_ktrain, y_ktest = y[train], y[test]\n",
    "        y_ktrain = np.ravel(y_ktrain)\n",
    "        y_ktest = np.ravel(y_ktest)\n",
    "        clf.fit(X_ktrain, y_ktrain)\n",
    "        acc_test.append(clf.score(X_ktest, y_ktest))\n",
    "        acc.append(clf.score(X_ktrain, y_ktrain))\n",
    "    return acc, acc_test\n"
   ]
  },
  {
   "cell_type": "code",
   "execution_count": 4,
   "id": "4312a29d-f7fa-4215-8943-64c07c2d6a6d",
   "metadata": {},
   "outputs": [],
   "source": [
    "df = get_onehot_dataset()\n",
    "#df = df.drop(df.index[[500, 6999]])\n",
    "y = df[[\"cardio\"]]\n",
    "X = df.loc[:, df.columns != 'cardio']\n",
    "X = X.to_numpy()\n",
    "y = y.to_numpy()\n",
    "X_train, X_test, y_train, y_test = train_test_split(X, y, test_size=0.2, random_state=0)\n",
    "y_train = np.ravel(y_train)\n",
    "y_test = np.ravel(y_test)"
   ]
  },
  {
   "cell_type": "code",
   "execution_count": 5,
   "id": "b4b0eb4a-6b74-40c9-9a4a-62a64fe926ed",
   "metadata": {},
   "outputs": [
    {
     "name": "stdout",
     "output_type": "stream",
     "text": [
      "0.6323571428571428\n"
     ]
    },
    {
     "ename": "NameError",
     "evalue": "name 'plt' is not defined",
     "output_type": "error",
     "traceback": [
      "\u001b[0;31m---------------------------------------------------------------------------\u001b[0m",
      "\u001b[0;31mNameError\u001b[0m                                 Traceback (most recent call last)",
      "Input \u001b[0;32mIn [5]\u001b[0m, in \u001b[0;36m<cell line: 5>\u001b[0;34m()\u001b[0m\n\u001b[1;32m      3\u001b[0m \u001b[38;5;28mprint\u001b[39m(clf\u001b[38;5;241m.\u001b[39mscore(X_test, y_test))\n\u001b[1;32m      4\u001b[0m \u001b[38;5;66;03m#tree.plot_tree(clf)\u001b[39;00m\n\u001b[0;32m----> 5\u001b[0m \u001b[43mplt\u001b[49m\u001b[38;5;241m.\u001b[39mshow()\n\u001b[1;32m      6\u001b[0m plt\u001b[38;5;241m.\u001b[39mclose()\n\u001b[1;32m      8\u001b[0m acc1 \u001b[38;5;241m=\u001b[39m k_fold(clf, X, y)\n",
      "\u001b[0;31mNameError\u001b[0m: name 'plt' is not defined"
     ]
    }
   ],
   "source": [
    "clf = tree.DecisionTreeClassifier()\n",
    "clf = clf.fit(X_train, y_train)\n",
    "print(clf.score(X_test, y_test))\n",
    "#tree.plot_tree(clf)\n",
    "plt.show()\n",
    "plt.close()\n",
    "\n",
    "acc1, acc1_test = k_fold(clf, X, y)"
   ]
  },
  {
   "cell_type": "code",
   "execution_count": null,
   "id": "48628251-6acf-4f25-9deb-dc583d523dac",
   "metadata": {},
   "outputs": [],
   "source": [
    "# Max depth\n",
    "clf1 = tree.DecisionTreeClassifier(max_depth=5)\n",
    "clf1 = clf1.fit(X, y)\n",
    "#tree.plot_tree(clf1)\n",
    "plt.show()\n",
    "plt.close()\n",
    "\n",
    "acc2, acc2_test = k_fold(clf1, X, y)"
   ]
  },
  {
   "cell_type": "code",
   "execution_count": null,
   "id": "1aec3523-b8e9-4270-afcf-21f1578dcdeb",
   "metadata": {},
   "outputs": [],
   "source": [
    "# Min samples leaf\n",
    "clf2 = tree.DecisionTreeClassifier(min_samples_leaf=3)\n",
    "clf2 = clf2.fit(X, y)\n",
    "#tree.plot_tree(clf2)\n",
    "plt.show()\n",
    "\n",
    "acc3, acc3_test = k_fold(clf2, X, y)"
   ]
  },
  {
   "cell_type": "code",
   "execution_count": null,
   "id": "98bfef85-43f1-468b-99c1-0272e2efbdcc",
   "metadata": {},
   "outputs": [],
   "source": [
    "print(\"Accuracy1: \", acc1)\n",
    "print(\"Accuracy2: \", acc2)\n",
    "print(\"Accuracy3: \", acc3)\n",
    "plt.plot(acc1, label='first accuracy')\n",
    "plt.plot(acc2, label='second accuracy')\n",
    "plt.plot(acc3, label='third accuracy')\n",
    "plt.xlabel(\"epoch\")\n",
    "plt.ylabel(\"Accuracy\")\n",
    "plt.show()\n",
    "\n",
    "print(\"Accuracy1: \", acc1_test)\n",
    "print(\"Accuracy2: \", acc2_test)\n",
    "print(\"Accuracy3: \", acc3_test)\n",
    "plt.plot(acc1, label='first accuracy')\n",
    "plt.plot(acc2, label='second accuracy')\n",
    "plt.plot(acc3, label='third accuracy')\n",
    "plt.xlabel(\"epoch\")\n",
    "plt.ylabel(\"Accuracy\")\n",
    "plt.show()"
   ]
  }
 ],
 "metadata": {
  "kernelspec": {
   "display_name": "Python 3 (ipykernel)",
   "language": "python",
   "name": "python3"
  },
  "language_info": {
   "codemirror_mode": {
    "name": "ipython",
    "version": 3
   },
   "file_extension": ".py",
   "mimetype": "text/x-python",
   "name": "python",
   "nbconvert_exporter": "python",
   "pygments_lexer": "ipython3",
   "version": "3.8.10"
  }
 },
 "nbformat": 4,
 "nbformat_minor": 5
}
