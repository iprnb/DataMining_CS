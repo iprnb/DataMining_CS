{
 "cells": [
  {
   "cell_type": "code",
   "execution_count": null,
   "id": "0aea23cd",
   "metadata": {
    "scrolled": true
   },
   "outputs": [],
   "source": [
    "!pip3 install scikit-learn\n",
    "!pip3 install pandas"
   ]
  },
  {
   "cell_type": "code",
   "execution_count": null,
   "id": "4b3993a6",
   "metadata": {},
   "outputs": [],
   "source": [
    "from sklearn.model_selection import train_test_split\n",
    "from files import get_onehot_dataset\n",
    "\n",
    "df = get_onehot_dataset()\n",
    "#df = df.drop([i for i in range(501,70000)], axis=0)\n",
    "Y = df[[\"cardio\"]]\n",
    "X = df.loc[:, df.columns != 'cardio']\n",
    "\n",
    "x_train, x_test, y_train, y_test = train_test_split(X, Y, test_size=0.2, random_state=1)\n",
    "x_train = x_train.to_numpy()\n",
    "y_train = y_train.to_numpy()\n",
    "x_test = x_test.to_numpy()\n",
    "y_test = y_test.to_numpy()\n",
    "y_train = y_train.ravel()\n",
    "y_test = y_test.ravel()"
   ]
  },
  {
   "cell_type": "code",
   "execution_count": null,
   "id": "8894b27d",
   "metadata": {},
   "outputs": [],
   "source": [
    "from sklearn.model_selection import KFold, GridSearchCV, StratifiedKFold\n",
    "from sklearn.neighbors import KNeighborsClassifier\n",
    "\n",
    "\n",
    "best_k_kf = 1\n",
    "best_kf = 2\n",
    "best_kf_value = 0\n",
    "best_k_st = 1 \n",
    "best_st = 2\n",
    "best_st_value = 0\n",
    "\n",
    "for k in range(1, 100, 5):\n",
    "    model = KNeighborsClassifier(n_neighbors=k)\n",
    "\n",
    "    for k_fold in range(50, 100, 10):\n",
    "        kf = KFold(n_splits=k_fold)\n",
    "        gs = GridSearchCV(model, cv=kf, param_grid={}, return_train_score=True)\n",
    "        gs.fit(x_train, y_train)\n",
    "        if gs.cv_results_['mean_test_score'][0] >= best_kf_value: \n",
    "            best_kf_value = gs.cv_results_['mean_test_score'][0]\n",
    "            best_kf = k_fold\n",
    "            best_k_kf = k \n",
    "\n",
    "        stf = StratifiedKFold(n_splits=k_fold)\n",
    "        gs = GridSearchCV(model, cv=stf, param_grid={}, return_train_score=True)\n",
    "        gs.fit(x_train, y_train)\n",
    "        if gs.cv_results_['mean_test_score'][0] >= best_st_value: \n",
    "            best_st_value = gs.cv_results_['mean_test_score'][0]\n",
    "            best_st = k_fold\n",
    "            best_k_st = k \n",
    "        \n",
    "print(\"Best k for k fold:\", best_k_kf)\n",
    "print(\"Best k fold:\", best_kf)\n",
    "print(\"Accuracy of best k fold:\", best_kf_value)\n",
    "print(\"Best k for stratified fold:\", best_k_st)\n",
    "print(\"Best stratified fold:\", best_st)\n",
    "print(\"Accuracy of best stratified fold:\", best_st_value)"
   ]
  },
  {
   "cell_type": "code",
   "execution_count": null,
   "id": "7cd1b80b",
   "metadata": {},
   "outputs": [],
   "source": [
    "from sklearn.metrics import accuracy_score\n",
    "from sklearn.metrics import log_loss\n",
    "\n",
    "xs = []\n",
    "ys_train = []\n",
    "ys_test = []\n",
    "error_train = []\n",
    "error_test = []\n",
    "\n",
    "for k in range(10, 60, 10):\n",
    "    xs.append(k)\n",
    "    model = KNeighborsClassifier(n_neighbors=k)\n",
    "    model.fit(x_train, y_train)\n",
    "    y_pred = model.predict(x_train)\n",
    "    ys_train.append(accuracy_score(y_train, y_pred))\n",
    "    error_train.append(log_loss(y_train, y_pred))\n",
    "    \n",
    "    y_pred = model.predict(x_test)\n",
    "    ys_test.append(accuracy_score(y_test, y_pred))\n",
    "    error_test.append(log_loss(y_test, y_pred))"
   ]
  },
  {
   "cell_type": "code",
   "execution_count": null,
   "id": "6840778d",
   "metadata": {},
   "outputs": [],
   "source": [
    "from matplotlib import pyplot as plt \n",
    "\n",
    "plt.plot(xs, ys_train)\n",
    "plt.show()\n",
    "\n",
    "plt.plot(xs, ys_test)\n",
    "plt.show()\n",
    "\n",
    "plt.plot(xs, error_train)\n",
    "plt.show()\n",
    "\n",
    "plt.plot(xs, error_test)\n",
    "plt.show()"
   ]
  },
  {
   "cell_type": "code",
   "execution_count": null,
   "id": "1e762836-b922-4dfe-b142-5c22aaaacefc",
   "metadata": {},
   "outputs": [],
   "source": [
    "from sklearn.neighbors import KNeighborsClassifier\n",
    "from sklearn.metrics import accuracy_score\n",
    "from sklearn.metrics import log_loss\n",
    "xs = []\n",
    "ys_train = []\n",
    "ys_test = []\n",
    "error_train = []\n",
    "error_test = []\n",
    "\n",
    "for distance in [\"euclidean\", \"manhattan\", \"chebyshev\", \"minkowski\"]:\n",
    "    xs.append(distance)\n",
    "    model = KNeighborsClassifier(n_neighbors=30, metric=distance)\n",
    "    model.fit(x_train, y_train)\n",
    "    y_pred = model.predict(x_train)\n",
    "    ys_train.append(accuracy_score(y_train, y_pred))\n",
    "    error_train.append(log_loss(y_train, y_pred))\n",
    "    \n",
    "    y_pred = model.predict(x_test)\n",
    "    ys_test.append(accuracy_score(y_test, y_pred))\n",
    "    error_test.append(log_loss(y_test, y_pred))"
   ]
  },
  {
   "cell_type": "code",
   "execution_count": null,
   "id": "e874c839",
   "metadata": {},
   "outputs": [],
   "source": []
  }
 ],
 "metadata": {
  "kernelspec": {
   "display_name": "Python 3 (ipykernel)",
   "language": "python",
   "name": "python3"
  },
  "language_info": {
   "codemirror_mode": {
    "name": "ipython",
    "version": 3
   },
   "file_extension": ".py",
   "mimetype": "text/x-python",
   "name": "python",
   "nbconvert_exporter": "python",
   "pygments_lexer": "ipython3",
   "version": "3.8.10"
  }
 },
 "nbformat": 4,
 "nbformat_minor": 5
}
