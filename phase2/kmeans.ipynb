{
 "cells": [
  {
   "cell_type": "code",
   "execution_count": null,
   "id": "7f735eb2-68e2-4813-b75c-721dd631a80a",
   "metadata": {},
   "outputs": [],
   "source": [
    "from sklearn.cluster import KMeans\n",
    "import pandas as pd\n",
    "from files import get_onehot_dataset"
   ]
  },
  {
   "cell_type": "code",
   "execution_count": null,
   "id": "6506f19f-d26a-4d6a-9fa9-2a83cf78ba41",
   "metadata": {},
   "outputs": [],
   "source": [
    "df = get_onehot_dataset()\n",
    "df = df.drop('cardio', axis=1)"
   ]
  },
  {
   "cell_type": "code",
   "execution_count": null,
   "id": "226c7678-40ea-4b73-a12f-3d393fd15a76",
   "metadata": {},
   "outputs": [],
   "source": [
    "kmeans = KMeans(2)\n",
    "kmeans.fit(df)"
   ]
  },
  {
   "cell_type": "code",
   "execution_count": null,
   "id": "9e71a353-c63d-45b9-8a45-54fc86b0bf1a",
   "metadata": {},
   "outputs": [],
   "source": [
    "cluster0 = []\n",
    "cluster1 = []\n",
    "for i in range(len(kmeans.labels_)):\n",
    "    if kmeans.labels_[i] == 0:\n",
    "        cluster0.append(i)\n",
    "    else:\n",
    "        cluster1.append(i)"
   ]
  },
  {
   "cell_type": "code",
   "execution_count": null,
   "id": "66afdce6-c587-4564-a6bb-163f3d26afbc",
   "metadata": {},
   "outputs": [],
   "source": [
    "print(\"Length of cluster 1: \", len(cluster0), \"\\nLength of cluster 2: \", len(cluster1))\n",
    "print(\"Cluster 1:\", cluster0)\n",
    "print(\"Cluster 2:\", cluster1)"
   ]
  }
 ],
 "metadata": {
  "kernelspec": {
   "display_name": "Python 3 (ipykernel)",
   "language": "python",
   "name": "python3"
  },
  "language_info": {
   "codemirror_mode": {
    "name": "ipython",
    "version": 3
   },
   "file_extension": ".py",
   "mimetype": "text/x-python",
   "name": "python",
   "nbconvert_exporter": "python",
   "pygments_lexer": "ipython3",
   "version": "3.8.10"
  }
 },
 "nbformat": 4,
 "nbformat_minor": 5
}
